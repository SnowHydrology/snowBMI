{
 "cells": [
  {
   "cell_type": "markdown",
   "metadata": {},
   "source": [
    "# Run the `snowBMI` model using Basic Model Interface commands"
   ]
  },
  {
   "cell_type": "markdown",
   "metadata": {},
   "source": [
    "This notebook demonstrates the execution of a simple temperature index snow model using BMI. View the source code for the [model](https://github.com/SnowHydrology/snowBMI/blob/master/snow/snow.py) and its [BMI](https://github.com/SnowHydrology/snowBMI/blob/master/snow/bmi_snow.py) on GitHub.\n",
    "\n",
    "This exercise is based on the [heat](https://github.com/csdms/bmi-example-python) example from [CSDMS](https://csdms.colorado.edu/wiki/Main_Page)."
   ]
  },
  {
   "cell_type": "markdown",
   "metadata": {},
   "source": [
    "Start by importing `os`, `numpy`, `pandas`, `matplotlib`, and the `Snow` BMI:"
   ]
  },
  {
   "cell_type": "code",
   "execution_count": 1,
   "metadata": {},
   "outputs": [
    {
     "ename": "ModuleNotFoundError",
     "evalue": "No module named 'snow'",
     "output_type": "error",
     "traceback": [
      "\u001b[0;31m---------------------------------------------------------------------------\u001b[0m",
      "\u001b[0;31mModuleNotFoundError\u001b[0m                       Traceback (most recent call last)",
      "Input \u001b[0;32mIn [1]\u001b[0m, in \u001b[0;36m<cell line: 6>\u001b[0;34m()\u001b[0m\n\u001b[1;32m      3\u001b[0m \u001b[38;5;28;01mimport\u001b[39;00m \u001b[38;5;21;01mpandas\u001b[39;00m \u001b[38;5;28;01mas\u001b[39;00m \u001b[38;5;21;01mpd\u001b[39;00m\n\u001b[1;32m      4\u001b[0m \u001b[38;5;28;01mimport\u001b[39;00m \u001b[38;5;21;01mmatplotlib\u001b[39;00m\u001b[38;5;21;01m.\u001b[39;00m\u001b[38;5;21;01mpyplot\u001b[39;00m \u001b[38;5;28;01mas\u001b[39;00m \u001b[38;5;21;01mplt\u001b[39;00m\n\u001b[0;32m----> 6\u001b[0m \u001b[38;5;28;01mfrom\u001b[39;00m \u001b[38;5;21;01msnow\u001b[39;00m \u001b[38;5;28;01mimport\u001b[39;00m SnowBmi\n",
      "\u001b[0;31mModuleNotFoundError\u001b[0m: No module named 'snow'"
     ]
    }
   ],
   "source": [
    "import os\n",
    "import numpy as np\n",
    "import pandas as pd\n",
    "import matplotlib.pyplot as plt\n",
    "\n",
    "from snow import SnowBmi"
   ]
  },
  {
   "cell_type": "markdown",
   "metadata": {},
   "source": [
    "Create an instance of the model's BMI."
   ]
  },
  {
   "cell_type": "code",
   "execution_count": 53,
   "metadata": {},
   "outputs": [],
   "source": [
    "x = SnowBmi()"
   ]
  },
  {
   "cell_type": "markdown",
   "metadata": {},
   "source": [
    "Use the BMI `get_component_name` function to query the model's name."
   ]
  },
  {
   "cell_type": "code",
   "execution_count": 54,
   "metadata": {},
   "outputs": [
    {
     "name": "stdout",
     "output_type": "stream",
     "text": [
      "Temperature Index Snow Model with BMI\n"
     ]
    }
   ],
   "source": [
    "print(x.get_component_name())"
   ]
  },
  {
   "cell_type": "markdown",
   "metadata": {},
   "source": [
    "Start the `Snow` model through its BMI using a configuration file. First, take a look at the file and then run the BMI `initialize` function."
   ]
  },
  {
   "cell_type": "code",
   "execution_count": 55,
   "metadata": {},
   "outputs": [
    {
     "name": "stdout",
     "output_type": "stream",
     "text": [
      "# Snow model configuration\r\n",
      "rs_method: 1         # 1 = single threshold, 2 = dual threshold\r\n",
      "rs_thresh: 2.5       # rain-snow temperature threshold when rs_method = 1 (°C)\r\n",
      "snow_thresh_max: 1.5 # maximum all-snow temp when rs_method = 2 (°C)\r\n",
      "rain_thresh_min: 4.5 # minimum all-rain temp when rs_method = 2 (°C)\r\n",
      "ddf_max: 2           # maximum degree day melt factor (mm/day/°C)\r\n",
      "ddf_min: 0           # minimum degree day melt factor (mm/day/°C)\r\n",
      "tair_melt_thresh: 1  # air temperature threshold above which melt can occur (°C)\r\n",
      "swe_init: 0          # initial snow water equivalent (mm)\r\n",
      "dayofyear: 274       # Day of year of simulation start (ex: 1 = Jan 1, 274 = Oct 1)\r\n",
      "year: 2020           # year of simulation start"
     ]
    }
   ],
   "source": [
    "cat snow.yaml"
   ]
  },
  {
   "cell_type": "code",
   "execution_count": 56,
   "metadata": {},
   "outputs": [],
   "source": [
    "x.initialize(\"snow.yaml\")"
   ]
  },
  {
   "cell_type": "markdown",
   "metadata": {},
   "source": [
    "Check the time information for the model."
   ]
  },
  {
   "cell_type": "code",
   "execution_count": 57,
   "metadata": {},
   "outputs": [
    {
     "name": "stdout",
     "output_type": "stream",
     "text": [
      "Start time: 0.0\n",
      "End time: 1.7976931348623157e+308\n",
      "Current time: 0.0\n",
      "Time step: 86400\n",
      "Time units: s\n"
     ]
    }
   ],
   "source": [
    "print(\"Start time:\", x.get_start_time())\n",
    "print(\"End time:\", x.get_end_time())\n",
    "print(\"Current time:\", x.get_current_time())\n",
    "print(\"Time step:\", x.get_time_step())\n",
    "print(\"Time units:\", x.get_time_units())"
   ]
  },
  {
   "cell_type": "markdown",
   "metadata": {},
   "source": [
    "Show the input and output variables for the component (aside on [Standard Names](https://csdms.colorado.edu/wiki/CSDMS_Standard_Names)):"
   ]
  },
  {
   "cell_type": "code",
   "execution_count": 58,
   "metadata": {},
   "outputs": [
    {
     "name": "stdout",
     "output_type": "stream",
     "text": [
      "Input vars = ('atmosphere_water__precipitation_leq-volume_flux', 'land_surface_air__temperature')\n",
      "Output vars = ('snowpack__liquid-equivalent_depth', 'snowpack__melt_volume_flux')\n"
     ]
    }
   ],
   "source": [
    "print(\"Input vars =\", x.get_input_var_names())\n",
    "print(\"Output vars =\", x.get_output_var_names())"
   ]
  },
  {
   "cell_type": "markdown",
   "metadata": {},
   "source": [
    "For a quick example, set air temperature and precipitation to a constant value using standard BMI functions."
   ]
  },
  {
   "cell_type": "code",
   "execution_count": 59,
   "metadata": {
    "scrolled": true
   },
   "outputs": [
    {
     "name": "stdout",
     "output_type": "stream",
     "text": [
      "Air temperature from get_value = [0.]\n",
      "Air temperature from get_value_ptr = [0.]\n",
      "Air temperature from get_value after set_value= [-5.]\n",
      "Air temperature from get_value_ptr after set_value= [-5.]\n",
      "Precipitation from get_value_ptr = [0.]\n",
      "Precipitation from get_value_ptr after set_value= [10.]\n"
     ]
    }
   ],
   "source": [
    "# when the model is initialized, air temperature equals 0\n",
    "# we can check this using either get_value or get_value_ptr\n",
    "temp_array = np.zeros(1,)\n",
    "x.get_value('land_surface_air__temperature', temp_array)\n",
    "print(\"Air temperature from get_value =\", temp_array)\n",
    "print(\"Air temperature from get_value_ptr =\", x.get_value_ptr('land_surface_air__temperature'))\n",
    "\n",
    "# Now we can set the value of air temperature\n",
    "# first make a numpy single-element array and give it a value\n",
    "air_temperature = np.full(1, -5)\n",
    "\n",
    "# Then set the value and check it with get_value\n",
    "x.set_value(\"land_surface_air__temperature\", air_temperature)\n",
    "x.get_value('land_surface_air__temperature', temp_array)\n",
    "print(\"Air temperature from get_value after set_value=\", temp_array)\n",
    "print(\"Air temperature from get_value_ptr after set_value=\", x.get_value_ptr('land_surface_air__temperature'))\n",
    "\n",
    "# And let's do the same for precipitation\n",
    "precip = np.full(1, 10)\n",
    "print(\"Precipitation from get_value_ptr =\", x.get_value_ptr(\"atmosphere_water__precipitation_leq-volume_flux\"))\n",
    "x.set_value(\"atmosphere_water__precipitation_leq-volume_flux\", precip)\n",
    "print(\"Precipitation from get_value_ptr after set_value=\", x.get_value_ptr('atmosphere_water__precipitation_leq-volume_flux'))"
   ]
  },
  {
   "cell_type": "markdown",
   "metadata": {},
   "source": [
    "A key advantage of BMI is that **we don't have to know the names of any of the input or output variables**. We can query the model and have standardized BMI functions return their names and values (and even their units!). This means no more spending hours poring over code to get the simplest info—you can use the same functions over and over again to get the info you require."
   ]
  },
  {
   "cell_type": "code",
   "execution_count": 60,
   "metadata": {},
   "outputs": [
    {
     "name": "stdout",
     "output_type": "stream",
     "text": [
      "atmosphere_water__precipitation_leq-volume_flux = [10.] mm d-1\n",
      "land_surface_air__temperature = [-5.] C\n",
      "snowpack__liquid-equivalent_depth = [0.] mm\n",
      "snowpack__melt_volume_flux = [0.] mm d-1\n"
     ]
    }
   ],
   "source": [
    "# we can also look at all values with a loop\n",
    "input_vars = x.get_input_var_names()\n",
    "for tmp in input_vars:\n",
    "    print(tmp, \"=\", x.get_value_ptr(tmp), x.get_var_units(tmp))\n",
    "output_vars = x.get_output_var_names()\n",
    "for tmp in output_vars:\n",
    "    print(tmp, \"=\", x.get_value_ptr(tmp), x.get_var_units(tmp))"
   ]
  },
  {
   "cell_type": "code",
   "execution_count": 61,
   "metadata": {},
   "outputs": [
    {
     "name": "stdout",
     "output_type": "stream",
     "text": [
      "swe = [10.]\n",
      "doy = 275\n",
      "swe = [20.]\n",
      "doy = 276\n",
      "swe = [30.]\n",
      "doy = 277\n",
      "swe = [40.]\n",
      "doy = 278\n",
      "swe = [50.]\n",
      "doy = 279\n",
      "swe = [60.]\n",
      "doy = 280\n",
      "swe = [70.]\n",
      "doy = 281\n",
      "swe = [80.]\n",
      "doy = 282\n",
      "swe = [90.]\n",
      "doy = 283\n",
      "swe = [100.]\n",
      "doy = 284\n",
      "swe = [110.]\n",
      "doy = 285\n",
      "swe = [120.]\n",
      "doy = 286\n",
      "swe = [130.]\n",
      "doy = 287\n",
      "swe = [140.]\n",
      "doy = 288\n",
      "swe = [150.]\n",
      "doy = 289\n",
      "swe = [160.]\n",
      "doy = 290\n",
      "swe = [170.]\n",
      "doy = 291\n",
      "swe = [180.]\n",
      "doy = 292\n",
      "swe = [190.]\n",
      "doy = 293\n",
      "swe = [200.]\n",
      "doy = 294\n",
      "swe = [210.]\n",
      "doy = 295\n",
      "swe = [220.]\n",
      "doy = 296\n",
      "swe = [230.]\n",
      "doy = 297\n",
      "swe = [240.]\n",
      "doy = 298\n",
      "swe = [250.]\n",
      "doy = 299\n",
      "swe = [260.]\n",
      "doy = 300\n",
      "swe = [270.]\n",
      "doy = 301\n",
      "swe = [280.]\n",
      "doy = 302\n",
      "swe = [290.]\n",
      "doy = 303\n",
      "swe = [300.]\n",
      "doy = 304\n"
     ]
    }
   ],
   "source": [
    "# update for a set number of time steps\n",
    "run_steps = 30\n",
    "for i in range(run_steps):\n",
    "    x.update()\n",
    "    print(\"swe =\", x.get_value_ptr(\"snowpack__liquid-equivalent_depth\"))\n",
    "    print(\"doy =\", x._model._dayofyear)"
   ]
  },
  {
   "cell_type": "code",
   "execution_count": 62,
   "metadata": {},
   "outputs": [
    {
     "name": "stdout",
     "output_type": "stream",
     "text": [
      "Air temperature from get_value_ptr after set_value= [15.]\n",
      "swe = [294.98986833]\n",
      "melt = [15.01013167]\n",
      "swe = [290.16314849]\n",
      "melt = [14.82671984]\n",
      "swe = [285.51712209]\n",
      "melt = [14.6460264]\n",
      "swe = [281.04901721]\n",
      "melt = [14.46810488]\n",
      "swe = [276.75600918]\n",
      "melt = [14.29300803]\n",
      "swe = [272.63522145]\n",
      "melt = [14.12078772]\n",
      "swe = [268.68372646]\n",
      "melt = [13.95149499]\n",
      "swe = [264.89854645]\n",
      "melt = [13.78518001]\n",
      "swe = [261.27665439]\n",
      "melt = [13.62189207]\n",
      "swe = [257.81497484]\n",
      "melt = [13.46167954]\n",
      "swe = [254.51038493]\n",
      "melt = [13.30458991]\n",
      "swe = [251.35971519]\n",
      "melt = [13.15066974]\n",
      "swe = [248.35975057]\n",
      "melt = [12.99996463]\n",
      "swe = [245.50723133]\n",
      "melt = [12.85251923]\n",
      "swe = [242.79885407]\n",
      "melt = [12.70837726]\n",
      "swe = [240.23127266]\n",
      "melt = [12.56758142]\n",
      "swe = [237.80109923]\n",
      "melt = [12.43017343]\n",
      "swe = [235.50490522]\n",
      "melt = [12.29619401]\n",
      "swe = [233.33922236]\n",
      "melt = [12.16568287]\n",
      "swe = [231.30054368]\n",
      "melt = [12.03867867]\n"
     ]
    }
   ],
   "source": [
    "# Try updating air temp to produce melt\n",
    "air_temperature = np.full(1, 15)\n",
    "\n",
    "# Then set the value and check it with get_value\n",
    "x.set_value(\"land_surface_air__temperature\", air_temperature)\n",
    "print(\"Air temperature from get_value_ptr after set_value=\", x.get_value_ptr('land_surface_air__temperature'))\n",
    "\n",
    "# update for a set number of time steps\n",
    "run_steps = 20\n",
    "for i in range(run_steps):\n",
    "    x.update()\n",
    "    print(\"swe =\", x.get_value_ptr(\"snowpack__liquid-equivalent_depth\"))\n",
    "    print(\"melt =\", x.get_value_ptr(\"snowpack__melt_volume_flux\"))\n"
   ]
  },
  {
   "cell_type": "markdown",
   "metadata": {},
   "source": [
    "Although it's fun to look at printed data and manually control the loops, let's try running an example simulation now using real forcing data from a SNOTEL station. First, we'll reinitialize the model and then import the data."
   ]
  },
  {
   "cell_type": "code",
   "execution_count": 63,
   "metadata": {},
   "outputs": [
    {
     "name": "stdout",
     "output_type": "stream",
     "text": [
      "         date  swe_mm  tair_c  ppt_mm\n",
      "0  2012-10-01     0.0     5.4     0.0\n",
      "1  2012-10-02     0.0    10.6     0.0\n",
      "2  2012-10-03     0.0     7.5     0.0\n",
      "3  2012-10-04     0.0    -1.1     0.0\n",
      "4  2012-10-05     0.0    -1.3     0.0\n",
      "5  2012-10-06     0.0    -5.6     0.0\n",
      "6  2012-10-07     0.0    -0.5     2.5\n",
      "7  2012-10-08     0.0     5.2     0.0\n",
      "8  2012-10-09     0.0     3.9     0.0\n",
      "9  2012-10-10     0.0     6.8     0.0\n"
     ]
    }
   ],
   "source": [
    "# Reinitialize the model\n",
    "x.initialize(\"snow.yaml\")\n",
    "\n",
    "# Import the example SNOTEL data\n",
    "forcing = pd.read_csv(\"data/snotel_663_data.csv\")\n",
    "print(forcing.head(10))"
   ]
  },
  {
   "cell_type": "markdown",
   "metadata": {},
   "source": [
    "We can see in the dataframe above that we have everything we need to run `snowBMI`, specifically air temperature and precipitation.\n",
    "\n",
    "Now we can run a `snowBMI` update loop based on the number of entries in the forcing data. Importantly, we'll use BMI::set_value to apply the forcing data to the model and BMI::get_value to access model data for plotting and analysis."
   ]
  },
  {
   "cell_type": "code",
   "execution_count": 64,
   "metadata": {},
   "outputs": [],
   "source": [
    "# Make an empty array to store the output data\n",
    "swe_output = np.zeros(forcing.date.size)\n",
    "\n",
    "# Loop through the data and run snowBMI\n",
    "for i in range(forcing.date.size):\n",
    "    air_temperature = np.full(1, forcing.tair_c[i])\n",
    "    precip = np.full(1, forcing.ppt_mm[i])\n",
    "    x.set_value(\"land_surface_air__temperature\", air_temperature)\n",
    "    x.set_value(\"atmosphere_water__precipitation_leq-volume_flux\", precip)\n",
    "    x.update()\n",
    "    swe_output[i] = x.get_value_ptr(\"snowpack__liquid-equivalent_depth\")"
   ]
  },
  {
   "cell_type": "code",
   "execution_count": 65,
   "metadata": {},
   "outputs": [
    {
     "data": {
      "image/png": "[encoded data removed]",
      "text/plain": [
       "<Figure size 720x504 with 1 Axes>"
      ]
     },
     "metadata": {
      "needs_background": "light"
     },
     "output_type": "display_data"
    }
   ],
   "source": [
    "# Plot the simulated and observed SWE\n",
    "plt.figure(figsize=(10, 7))\n",
    "plt.plot(swe_output,label='Sim. SWE')\n",
    "plt.plot(forcing.swe_mm, label='Obs. SWE')\n",
    "plt.ylabel('SWE (mm)')\n",
    "plt.xlabel('Day of Simulation')\n",
    "plt.legend()\n",
    "plt.show()\n",
    "plt.close()"
   ]
  },
  {
   "cell_type": "markdown",
   "metadata": {},
   "source": [
    "All in all, that's a pretty good result for a non-calibrated temperature index snow model that completely ignores snow hydrology and runs on a daily time step. In fact, we can calculate its Nash Sutcliffe efficiency (NSE) and mean bias. "
   ]
  },
  {
   "cell_type": "code",
   "execution_count": 66,
   "metadata": {},
   "outputs": [
    {
     "name": "stdout",
     "output_type": "stream",
     "text": [
      "NSE: 0.94\n",
      "Mean bias: 4.68 mm\n"
     ]
    }
   ],
   "source": [
    "# Calculate and print NSE\n",
    "obs = forcing.swe_mm\n",
    "sim = swe_output\n",
    "nse_denominator = ((obs - obs.mean())**2).sum()\n",
    "nse_numerator = ((sim - obs)**2).sum()\n",
    "nse = 1 - nse_numerator / nse_denominator\n",
    "print(\"NSE: {:.2f}\".format(nse))\n",
    "\n",
    "# Calculate mean bias\n",
    "mean_bias = sim.mean() - obs.mean()\n",
    "print(\"Mean bias: {:.2f}\".format(mean_bias), \"mm\")"
   ]
  },
  {
   "cell_type": "markdown",
   "metadata": {},
   "source": [
    "If only all of our models could be so good! Okay, let's end this and finalize our run."
   ]
  },
  {
   "cell_type": "code",
   "execution_count": 67,
   "metadata": {},
   "outputs": [],
   "source": [
    "x.finalize()"
   ]
  }
 ],
 "metadata": {
  "kernelspec": {
   "display_name": "Python 3 (ipykernel)",
   "language": "python",
   "name": "python3"
  },
  "language_info": {
   "codemirror_mode": {
    "name": "ipython",
    "version": 3
   },
   "file_extension": ".py",
   "mimetype": "text/x-python",
   "name": "python",
   "nbconvert_exporter": "python",
   "pygments_lexer": "ipython3",
   "version": "3.9.12"
  }
 },
 "nbformat": 4,
 "nbformat_minor": 1
}
