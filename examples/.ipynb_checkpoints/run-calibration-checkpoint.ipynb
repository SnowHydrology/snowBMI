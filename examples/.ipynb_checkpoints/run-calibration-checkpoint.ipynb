{
 "cells": [
  {
   "cell_type": "markdown",
   "metadata": {},
   "source": [
    "# Calibrate the `snowBMI` model using a *very simple* calibration routine"
   ]
  },
  {
   "cell_type": "markdown",
   "metadata": {},
   "source": [
    "This notebook demonstrates the calibration of a simple temperature index snow model using BMI. View the source code for the [model](https://github.com/SnowHydrology/snowBMI/blob/master/snow/snow.py) and its [BMI](https://github.com/SnowHydrology/snowBMI/blob/master/snow/bmi_snow.py) on GitHub.\n",
    "\n",
    "This exercise is based on the [heat](https://github.com/csdms/bmi-example-python) example from [CSDMS](https://csdms.colorado.edu/wiki/Main_Page).\n",
    "\n",
    "Below we'll calibrate the model using a simple random parameter selection scheme."
   ]
  },
  {
   "cell_type": "markdown",
   "metadata": {},
   "source": [
    "Start by importing `os`, `numpy`, `pandas`, `matplotlib`, `yaml`, and the `Snow` BMI:"
   ]
  },
  {
   "cell_type": "code",
   "execution_count": 43,
   "metadata": {},
   "outputs": [],
   "source": [
    "import os\n",
    "import numpy as np\n",
    "import pandas as pd\n",
    "import matplotlib.pyplot as plt\n",
    "import yaml\n",
    "\n",
    "from snow import SnowBmi"
   ]
  },
  {
   "cell_type": "markdown",
   "metadata": {},
   "source": [
    "Create an instance of the model's BMI."
   ]
  },
  {
   "cell_type": "code",
   "execution_count": 44,
   "metadata": {},
   "outputs": [],
   "source": [
    "x = SnowBmi()"
   ]
  },
  {
   "cell_type": "markdown",
   "metadata": {},
   "source": [
    "Use the BMI `get_component_name` function to query the model's name."
   ]
  },
  {
   "cell_type": "code",
   "execution_count": 45,
   "metadata": {},
   "outputs": [
    {
     "name": "stdout",
     "output_type": "stream",
     "text": [
      "Temperature Index Snow Model with BMI\n"
     ]
    }
   ],
   "source": [
    "print(x.get_component_name())"
   ]
  },
  {
   "cell_type": "markdown",
   "metadata": {},
   "source": [
    "Start the `Snow` model through its BMI using a configuration file. First, take a look at the file and then run the BMI `initialize` function."
   ]
  },
  {
   "cell_type": "code",
   "execution_count": 46,
   "metadata": {},
   "outputs": [
    {
     "name": "stdout",
     "output_type": "stream",
     "text": [
      "# Snow model configuration\r\n",
      "rs_method: 1         # 1 = single threshold, 2 = dual threshold\r\n",
      "rs_thresh: 2.5       # rain-snow temperature threshold when rs_method = 1 (°C)\r\n",
      "snow_thresh_max: 1.5 # maximum all-snow temp when rs_method = 2 (°C)\r\n",
      "rain_thresh_min: 4.5 # minimum all-rain temp when rs_method = 2 (°C)\r\n",
      "ddf_max: 2           # maximum degree day melt factor (mm/day/°C)\r\n",
      "ddf_min: 0           # minimum degree day melt factor (mm/day/°C)\r\n",
      "tair_melt_thresh: 1  # air temperature threshold above which melt can occur (°C)\r\n",
      "swe_init: 0          # initial snow water equivalent (mm)\r\n",
      "dayofyear: 274       # Day of year of simulation start (ex: 1 = Jan 1, 274 = Oct 1)\r\n",
      "year: 2020           # year of simulation start"
     ]
    }
   ],
   "source": [
    "cat snow.yaml"
   ]
  },
  {
   "cell_type": "code",
   "execution_count": 47,
   "metadata": {},
   "outputs": [],
   "source": [
    "x.initialize(\"snow.yaml\")"
   ]
  },
  {
   "cell_type": "markdown",
   "metadata": {},
   "source": [
    "Check the time information for the model."
   ]
  },
  {
   "cell_type": "code",
   "execution_count": 48,
   "metadata": {},
   "outputs": [
    {
     "name": "stdout",
     "output_type": "stream",
     "text": [
      "Start time: 0.0\n",
      "End time: 1.7976931348623157e+308\n",
      "Current time: 0.0\n",
      "Time step: 86400\n",
      "Time units: s\n"
     ]
    }
   ],
   "source": [
    "print(\"Start time:\", x.get_start_time())\n",
    "print(\"End time:\", x.get_end_time())\n",
    "print(\"Current time:\", x.get_current_time())\n",
    "print(\"Time step:\", x.get_time_step())\n",
    "print(\"Time units:\", x.get_time_units())"
   ]
  },
  {
   "cell_type": "markdown",
   "metadata": {},
   "source": [
    "Show the input and output variables for the component (aside on [Standard Names](https://csdms.colorado.edu/wiki/CSDMS_Standard_Names)):"
   ]
  },
  {
   "cell_type": "code",
   "execution_count": 49,
   "metadata": {},
   "outputs": [
    {
     "name": "stdout",
     "output_type": "stream",
     "text": [
      "Input vars = ('atmosphere_water__precipitation_leq-volume_flux', 'land_surface_air__temperature')\n",
      "Output vars = ('snowpack__liquid-equivalent_depth', 'snowpack__melt_volume_flux')\n"
     ]
    }
   ],
   "source": [
    "print(\"Input vars =\", x.get_input_var_names())\n",
    "print(\"Output vars =\", x.get_output_var_names())"
   ]
  },
  {
   "cell_type": "markdown",
   "metadata": {},
   "source": [
    "A key advantage of BMI is that **we don't have to know the names of any of the input or output variables**. We can query the model and have standardized BMI functions return their names and values (and even their units!). This means no more spending hours poring over code to get the simplest info—you can use the same functions over and over again to get the info you require."
   ]
  },
  {
   "cell_type": "code",
   "execution_count": 50,
   "metadata": {},
   "outputs": [
    {
     "name": "stdout",
     "output_type": "stream",
     "text": [
      "atmosphere_water__precipitation_leq-volume_flux = [0.] mm d-1\n",
      "land_surface_air__temperature = [0.] C\n",
      "snowpack__liquid-equivalent_depth = [0.] mm\n",
      "snowpack__melt_volume_flux = [0.] mm d-1\n"
     ]
    }
   ],
   "source": [
    "# we can also look at all values with a loop\n",
    "input_vars = x.get_input_var_names()\n",
    "for tmp in input_vars:\n",
    "    print(tmp, \"=\", x.get_value_ptr(tmp), x.get_var_units(tmp))\n",
    "output_vars = x.get_output_var_names()\n",
    "for tmp in output_vars:\n",
    "    print(tmp, \"=\", x.get_value_ptr(tmp), x.get_var_units(tmp))"
   ]
  },
  {
   "cell_type": "code",
   "execution_count": 51,
   "metadata": {},
   "outputs": [
    {
     "name": "stdout",
     "output_type": "stream",
     "text": [
      "         date  swe_mm  tair_c  ppt_mm\n",
      "0  2012-10-01     0.0     5.4     0.0\n",
      "1  2012-10-02     0.0    10.6     0.0\n",
      "2  2012-10-03     0.0     7.5     0.0\n",
      "3  2012-10-04     0.0    -1.1     0.0\n",
      "4  2012-10-05     0.0    -1.3     0.0\n",
      "5  2012-10-06     0.0    -5.6     0.0\n",
      "6  2012-10-07     0.0    -0.5     2.5\n",
      "7  2012-10-08     0.0     5.2     0.0\n",
      "8  2012-10-09     0.0     3.9     0.0\n",
      "9  2012-10-10     0.0     6.8     0.0\n"
     ]
    }
   ],
   "source": [
    "# Import the example SNOTEL data for Niwot Ridge\n",
    "forcing = pd.read_csv(\"data/snotel_663_data.csv\")\n",
    "print(forcing.head(10))"
   ]
  },
  {
   "cell_type": "markdown",
   "metadata": {},
   "source": [
    "We can see in the dataframe above that we have everything we need to run `snowBMI`, specifically air temperature and precipitation."
   ]
  },
  {
   "cell_type": "markdown",
   "metadata": {},
   "source": [
    "We also now want to import our calibration parameters yaml that includes the ranges for different `snowBMI` parameters."
   ]
  },
  {
   "cell_type": "code",
   "execution_count": 52,
   "metadata": {},
   "outputs": [
    {
     "name": "stdout",
     "output_type": "stream",
     "text": [
      "# Parameter maximum and minimum values for calibration\r\n",
      "rs_thresh_min: -1.0      # minimum rain-snow temperature threshold when rs_method = 1 (°C)\r\n",
      "rs_thresh_max: 5.0       # maximum rain-snow temperature threshold when rs_method = 1 (°C)\r\n",
      "ddf_max_min: 1           # minimum maximum degree day melt factor (mm/day/°C)\r\n",
      "ddf_max_max: 2           # maximum maximum degree day melt factor (mm/day/°C)\r\n",
      "ddf_min_min: 0           # minimum minimum degree day melt factor (mm/day/°C)\r\n",
      "ddf_min_max: 0.99        # maximum minimum degree day melt factor (mm/day/°C)\r\n",
      "tair_melt_thresh_min: 0  # minimum air temperature threshold above which melt can occur (°C)\r\n",
      "tair_melt_thresh_max: 3  # maximum air temperature threshold above which melt can occur (°C)"
     ]
    }
   ],
   "source": [
    "cat calibration_params.yaml"
   ]
  },
  {
   "cell_type": "code",
   "execution_count": 53,
   "metadata": {},
   "outputs": [],
   "source": [
    "param_ranges = yaml.safe_load(open('calibration_params.yaml'))"
   ]
  },
  {
   "cell_type": "markdown",
   "metadata": {},
   "source": [
    "We can now make random selections within the parameter ranges to make our parameter values for calibration. (Again, this is a simplistic treatment of calibration for demonstration's sake.)"
   ]
  },
  {
   "cell_type": "code",
   "execution_count": 54,
   "metadata": {},
   "outputs": [],
   "source": [
    "# set the number of calibration iterations we'll run\n",
    "n_iter = 50\n",
    "\n",
    "# make a random vector of rain-snow thresholds\n",
    "cal_vals_rs_thresh = np.random.uniform(low=param_ranges['rs_thresh_min'], high=param_ranges['rs_thresh_max'], size=(n_iter,))\n",
    "\n",
    "# make a random vector of minimum degree day factors\n",
    "cal_vals_ddf_min = np.random.uniform(low=param_ranges['ddf_min_min'], high=param_ranges['ddf_min_max'], size=(n_iter,))\n",
    "\n",
    "# make a random vector of maximum degree day factors\n",
    "cal_vals_ddf_max = np.random.uniform(low=param_ranges['ddf_max_min'], high=param_ranges['ddf_max_max'], size=(n_iter,))\n",
    "\n",
    "# make a random vector of melt temperature thresholds\n",
    "cal_vals_tair_melt_thresh = np.random.uniform(low=param_ranges['tair_melt_thresh_min'], high=param_ranges['tair_melt_thresh_max'], size=(n_iter,))\n"
   ]
  },
  {
   "cell_type": "markdown",
   "metadata": {},
   "source": [
    "Now we can run a `snowBMI` update loop based on the number of calibration iterations and the entries in the forcing data. Importantly, we'll use BMI::set_value to apply the forcing data to the model and BMI::get_value to access model data for plotting and analysis."
   ]
  },
  {
   "cell_type": "code",
   "execution_count": 55,
   "metadata": {},
   "outputs": [],
   "source": [
    "# Make an empty array to store the output data\n",
    "swe_output = np.zeros(forcing.date.size * n_iter)\n",
    "\n",
    "# Loop through the calibration iterations\n",
    "for j in range(n_iter):\n",
    "    # Initialize or re-initialize the snow model\n",
    "    x.initialize(\"snow.yaml\")\n",
    "    \n",
    "    # Set the parameter values\n",
    "    x._model.rs_thresh = cal_vals_rs_thresh[j]\n",
    "    x._model.ddf_min = cal_vals_ddf_min[j]\n",
    "    x._model.ddf_max = cal_vals_ddf_max[j]\n",
    "    x._model.tair_melt_thresh = cal_vals_tair_melt_thresh[j]\n",
    "    \n",
    "    # Loop through the data and run snowBMI\n",
    "    for i in range(forcing.date.size):\n",
    "        air_temperature = np.full(1, forcing.tair_c[i])\n",
    "        precip = np.full(1, forcing.ppt_mm[i])\n",
    "        x.set_value(\"land_surface_air__temperature\", air_temperature)\n",
    "        x.set_value(\"atmosphere_water__precipitation_leq-volume_flux\", precip)\n",
    "        x.update()\n",
    "        swe_output[i + (j * forcing.date.size)] = x.get_value_ptr(\"snowpack__liquid-equivalent_depth\")\n"
   ]
  },
  {
   "cell_type": "markdown",
   "metadata": {},
   "source": [
    "Now we'll export the simulated SWE data and the parameter values."
   ]
  },
  {
   "cell_type": "code",
   "execution_count": 56,
   "metadata": {},
   "outputs": [],
   "source": [
    "np.savetxt(\"data/swe_sim_663.csv\", swe_output, delimiter=\",\", fmt='%.2e', header = 'sim_swe_mm')\n",
    "all_params = np.asarray([ cal_vals_rs_thresh, cal_vals_ddf_min, cal_vals_ddf_max, cal_vals_tair_melt_thresh ])\n",
    "np.savetxt(\"data/all_params.csv\", np.transpose(all_params), delimiter=\",\", fmt='%.2e', header = 'rs_thresh,ddf_min,ddf_max,tair_melt_thresh')\n"
   ]
  },
  {
   "cell_type": "markdown",
   "metadata": {},
   "source": [
    "And, for comparison's sake, we'll run calibration at another site (Hogg Pass SNOTEL) and export those data."
   ]
  },
  {
   "cell_type": "code",
   "execution_count": 57,
   "metadata": {},
   "outputs": [],
   "source": [
    "# Read in the new forcing data\n",
    "forcing = pd.read_csv(\"data/snotel_526_data.csv\")\n",
    "\n",
    "# Make an empty array to store the output data\n",
    "swe_output = np.zeros(forcing.date.size * n_iter)\n",
    "\n",
    "# Loop through the calibration iterations\n",
    "for j in range(n_iter):\n",
    "    # Initialize or re-initialize the snow model\n",
    "    x.initialize(\"snow.yaml\")\n",
    "    \n",
    "    # Set the parameter values\n",
    "    x._model.rs_thresh = cal_vals_rs_thresh[j]\n",
    "    x._model.ddf_min = cal_vals_ddf_min[j]\n",
    "    x._model.ddf_max = cal_vals_ddf_max[j]\n",
    "    x._model.tair_melt_thresh = cal_vals_tair_melt_thresh[j]\n",
    "    \n",
    "    # Loop through the data and run snowBMI\n",
    "    for i in range(forcing.date.size):\n",
    "        air_temperature = np.full(1, forcing.tair_c[i])\n",
    "        precip = np.full(1, forcing.ppt_mm[i])\n",
    "        x.set_value(\"land_surface_air__temperature\", air_temperature)\n",
    "        x.set_value(\"atmosphere_water__precipitation_leq-volume_flux\", precip)\n",
    "        x.update()\n",
    "        swe_output[i + (j * forcing.date.size)] = x.get_value_ptr(\"snowpack__liquid-equivalent_depth\")\n",
    "        \n",
    "# Export the SWE data\n",
    "np.savetxt(\"data/swe_sim_526.csv\", swe_output, delimiter=\",\", fmt='%.2e', header = 'sim_swe_mm')"
   ]
  },
  {
   "cell_type": "markdown",
   "metadata": {},
   "source": [
    "We're done for now, so let's end this and finalize our run."
   ]
  },
  {
   "cell_type": "code",
   "execution_count": 58,
   "metadata": {},
   "outputs": [],
   "source": [
    "x.finalize()"
   ]
  }
 ],
 "metadata": {
  "kernelspec": {
   "display_name": "Python 3 (ipykernel)",
   "language": "python",
   "name": "python3"
  },
  "language_info": {
   "codemirror_mode": {
    "name": "ipython",
    "version": 3
   },
   "file_extension": ".py",
   "mimetype": "text/x-python",
   "name": "python",
   "nbconvert_exporter": "python",
   "pygments_lexer": "ipython3",
   "version": "3.9.12"
  }
 },
 "nbformat": 4,
 "nbformat_minor": 1
}
